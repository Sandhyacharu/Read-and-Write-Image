{
 "cells": [
  {
   "cell_type": "code",
   "execution_count": 1,
   "id": "b1aed28a",
   "metadata": {},
   "outputs": [],
   "source": [
    "import cv2"
   ]
  },
  {
   "cell_type": "code",
   "execution_count": 15,
   "id": "75d7b0a4",
   "metadata": {},
   "outputs": [],
   "source": [
    "color_image = cv2.imread(\"image.jpg\",1)"
   ]
  },
  {
   "cell_type": "code",
   "execution_count": 16,
   "id": "cd462de4",
   "metadata": {},
   "outputs": [
    {
     "data": {
      "text/plain": [
       "-1"
      ]
     },
     "execution_count": 16,
     "metadata": {},
     "output_type": "execute_result"
    }
   ],
   "source": [
    "cv2.imshow('212220230041',color_image)\n",
    "cv2.waitKey(0)"
   ]
  },
  {
   "cell_type": "code",
   "execution_count": 4,
   "id": "6a5fe1b5",
   "metadata": {},
   "outputs": [],
   "source": [
    "gray_image = cv2.imread(\"image.jpg\",0)"
   ]
  },
  {
   "cell_type": "code",
   "execution_count": 5,
   "id": "0d72153c",
   "metadata": {},
   "outputs": [
    {
     "data": {
      "text/plain": [
       "True"
      ]
     },
     "execution_count": 5,
     "metadata": {},
     "output_type": "execute_result"
    }
   ],
   "source": [
    "cv2.imwrite(\"image1.jpg\",gray_image)"
   ]
  },
  {
   "cell_type": "code",
   "execution_count": 6,
   "id": "ea893118",
   "metadata": {},
   "outputs": [
    {
     "data": {
      "text/plain": [
       "-1"
      ]
     },
     "execution_count": 6,
     "metadata": {},
     "output_type": "execute_result"
    }
   ],
   "source": [
    "cv2.imshow('212220230041',gray_image)\n",
    "cv2.waitKey(0)"
   ]
  },
  {
   "cell_type": "code",
   "execution_count": 7,
   "id": "192f9aea",
   "metadata": {},
   "outputs": [
    {
     "data": {
      "text/plain": [
       "(531, 800, 3)"
      ]
     },
     "execution_count": 7,
     "metadata": {},
     "output_type": "execute_result"
    }
   ],
   "source": [
    "color_image.shape"
   ]
  },
  {
   "cell_type": "code",
   "execution_count": 8,
   "id": "2fbcc848",
   "metadata": {},
   "outputs": [
    {
     "data": {
      "text/plain": [
       "(531, 800)"
      ]
     },
     "execution_count": 8,
     "metadata": {},
     "output_type": "execute_result"
    }
   ],
   "source": [
    "gray_image.shape"
   ]
  },
  {
   "cell_type": "code",
   "execution_count": 11,
   "id": "cadd2c33",
   "metadata": {},
   "outputs": [],
   "source": [
    "import random\n",
    "for i in range (100):\n",
    "    for j in range(color_image.shape[1]):\n",
    "        color_image[i][j] = [random.randint(0,255),random.randint(0,255),random.randint(0,255)]"
   ]
  },
  {
   "cell_type": "code",
   "execution_count": 12,
   "id": "bf8a6372",
   "metadata": {},
   "outputs": [
    {
     "data": {
      "text/plain": [
       "-1"
      ]
     },
     "execution_count": 12,
     "metadata": {},
     "output_type": "execute_result"
    }
   ],
   "source": [
    "cv2.imshow('212220230041',color_image)\n",
    "cv2.waitKey(0)"
   ]
  },
  {
   "cell_type": "code",
   "execution_count": null,
   "id": "0b60de64",
   "metadata": {},
   "outputs": [],
   "source": [
    "tag = color_image[200:320,200:320]\n",
    "color_image[280:400,280:400] = tag\n",
    "cv2.imshow('212220230041',color_image)\n",
    "cv2.waitKey(0)"
   ]
  },
  {
   "cell_type": "code",
   "execution_count": null,
   "id": "eca92825",
   "metadata": {},
   "outputs": [],
   "source": []
  }
 ],
 "metadata": {
  "kernelspec": {
   "display_name": "Python 3",
   "language": "python",
   "name": "python3"
  },
  "language_info": {
   "codemirror_mode": {
    "name": "ipython",
    "version": 3
   },
   "file_extension": ".py",
   "mimetype": "text/x-python",
   "name": "python",
   "nbconvert_exporter": "python",
   "pygments_lexer": "ipython3",
   "version": "3.8.8"
  }
 },
 "nbformat": 4,
 "nbformat_minor": 5
}
